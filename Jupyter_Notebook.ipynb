{
 "cells": [
  {
   "cell_type": "markdown",
   "metadata": {},
   "source": [
    "<center>\n",
    "    <img src=\"https://cf-courses-data.s3.us.cloud-object-storage.appdomain.cloud/IBMDeveloperSkillsNetwork-DS0105EN-SkillsNetwork/labs/Module2/images/SN_web_lightmode.png\" width=\"300\" alt=\"cognitiveclass.ai logo\">\n",
    "</center>\n"
   ]
  },
  {
   "cell_type": "markdown",
   "metadata": {},
   "source": [
    "# TOOLS FOR DATA SCIENCE: PEER GRADED ASSIGNMENT"
   ]
  },
  {
   "cell_type": "markdown",
   "metadata": {},
   "source": [
    "### INTRODUCTION\n",
    "\n",
    "In this notebook we are required to showcase what we have learned so far in the course. We are required to perform number of tasks that include Markdowns and Codings which will be graded by our fellow peers."
   ]
  },
  {
   "cell_type": "markdown",
   "metadata": {},
   "source": [
    "### LANGUAGES FOR DATA SCIENCE\n",
    "\n",
    "Following languages are particularly relevant for data science:\n",
    "\n",
    "1- Python;  \n",
    "2- R;  \n",
    "3- Julia; and  \n",
    "4- Ruby\n"
   ]
  },
  {
   "cell_type": "markdown",
   "metadata": {},
   "source": [
    "### DATA SCIENCE LIBRARIES\n",
    "\n",
    "1- pandas  \n",
    "2- numpy  \n",
    "3- plotli  \n",
    "4- ggplot  \n"
   ]
  },
  {
   "cell_type": "markdown",
   "metadata": {},
   "source": [
    "### TOOLS FOR DATA SCIENCE\n",
    "\n",
    "|Sr#|Tools| \n",
    "|:--|:-------|\n",
    "|1|VS Code|\n",
    "|2|Github|\n",
    "|3|Gitlab|\n",
    "|4|Google Collaboratory|\n",
    "|5|Watson|\n",
    "|6|Jupyter Notebook|"
   ]
  },
  {
   "cell_type": "markdown",
   "metadata": {},
   "source": [
    "### ARITHMETIC EXPRESSION -- AN "
   ]
  }
 ],
 "metadata": {
  "kernelspec": {
   "display_name": "Python",
   "language": "python",
   "name": "conda-env-python-py"
  },
  "language_info": {
   "codemirror_mode": {
    "name": "ipython",
    "version": 3
   },
   "file_extension": ".py",
   "mimetype": "text/x-python",
   "name": "python",
   "nbconvert_exporter": "python",
   "pygments_lexer": "ipython3",
   "version": "3.7.12"
  }
 },
 "nbformat": 4,
 "nbformat_minor": 4
}
